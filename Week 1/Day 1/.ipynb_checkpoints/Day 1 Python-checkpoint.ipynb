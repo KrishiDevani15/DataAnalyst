{
 "cells": [
  {
   "cell_type": "markdown",
   "id": "faebfc09-68fa-42f9-8b23-38fb5681ad31",
   "metadata": {},
   "source": [
    "<h1> Week 1 :- Day 1 Basic Python Journey</h1>\n",
    "    <ul>\n",
    "    <li>Python Output</li>\n",
    "    <li>Data Types</li>\n",
    "    <li>Variables</li>\n",
    "    <li>Comments</li>\n",
    "    <li>Keywords & Identifiers</li>\n",
    "    <li>User Input</li>\n",
    "    <li>Type Conversion</li>\n",
    "    <li>Literals</li>\n",
    "</ul>\n"
   ]
  },
  {
   "cell_type": "markdown",
   "id": "f287506a-d5a9-4c84-b406-04bd06e57ae4",
   "metadata": {},
   "source": [
    "<h3>1. Python Output</h3>"
   ]
  },
  {
   "cell_type": "code",
   "execution_count": null,
   "id": "d07c159c-9568-4aee-8646-be87c2271926",
   "metadata": {},
   "outputs": [],
   "source": []
  }
 ],
 "metadata": {
  "kernelspec": {
   "display_name": "",
   "name": ""
  },
  "language_info": {
   "name": ""
  }
 },
 "nbformat": 4,
 "nbformat_minor": 5
}
