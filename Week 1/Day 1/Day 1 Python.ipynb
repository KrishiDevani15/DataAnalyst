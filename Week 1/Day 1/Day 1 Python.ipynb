{
 "cells": [
  {
   "cell_type": "markdown",
   "id": "faebfc09-68fa-42f9-8b23-38fb5681ad31",
   "metadata": {},
   "source": [
    "<h1> Week 1 :- Day 1 Basic Python Journey</h1>\n",
    "    <ul>\n",
    "    <li>Python Output</li>\n",
    "    <li>Data Types</li>\n",
    "    <li>Variables</li>\n",
    "    <li>Comments</li>\n",
    "    <li>Keywords & Identifiers</li>\n",
    "    <li>User Input</li>\n",
    "    <li>Type Conversion</li>\n",
    "    <li>Literals</li>\n",
    "</ul>\n"
   ]
  },
  {
   "cell_type": "markdown",
   "id": "f287506a-d5a9-4c84-b406-04bd06e57ae4",
   "metadata": {},
   "source": [
    "<h3>1. Python Output</h3>\n",
    "print(value, .., sep=' ', end='\\n', file=sys.stdout, flush=False)\n",
    "Prints the values to a stream, or to sys.stdout by default.\n",
    "Optional keyword arguments:\n",
    "file: a file-like object (stream); defaults to the current sys.stdout. sep: string inserted between values, default a space. end:\n",
    "string appended after the last value, default a newline.\n",
    "flush: whether to forcibly flush the stream."
   ]
  },
  {
   "cell_type": "code",
   "execution_count": 2,
   "id": "d07c159c-9568-4aee-8646-be87c2271926",
   "metadata": {},
   "outputs": [
    {
     "name": "stdout",
     "output_type": "stream",
     "text": [
      "Hello World!\n",
      "Salman Khan\n",
      "7\n",
      "7.7\n",
      "True\n",
      "Hello 1.4 1 True\n"
     ]
    }
   ],
   "source": [
    "print(\"Hello World!\")\n",
    "print(\"Salman Khan\")\n",
    "print(7)\n",
    "print(7.7)\n",
    "print(True)\n",
    "print(\"Hello\",1.4,1,True)"
   ]
  },
  {
   "cell_type": "code",
   "execution_count": 11,
   "id": "8948035d-e1a9-4528-b88e-d941dec74a54",
   "metadata": {},
   "outputs": [
    {
     "name": "stdout",
     "output_type": "stream",
     "text": [
      "Hello\n",
      "World\n",
      "Hello -1.4 -1 -True\n",
      "Hello/World\n"
     ]
    }
   ],
   "source": [
    "print(\"Hello\")\n",
    "print(\"World\")\n",
    "\n",
    "print(\"Hello\",1.4,1,True,sep = \" -\")\n",
    "\n",
    "print(\"Hello\",end='/')\n",
    "print(\"World\")"
   ]
  },
  {
   "cell_type": "markdown",
   "id": "762f94c9-0399-45dc-9b75-af14e119294b",
   "metadata": {},
   "source": [
    "<h3>2. Data Types</h3>"
   ]
  },
  {
   "cell_type": "code",
   "execution_count": 14,
   "id": "f21ce462-417a-40b3-b74c-598fb34dbc63",
   "metadata": {},
   "outputs": [
    {
     "name": "stdout",
     "output_type": "stream",
     "text": [
      "8\n",
      "1e+308\n",
      "inf\n"
     ]
    }
   ],
   "source": [
    "# Integer\n",
    "print(8)\n",
    "# 1*10^308\n",
    "print(1e308)\n",
    "print(1e309)"
   ]
  },
  {
   "cell_type": "code",
   "execution_count": 15,
   "id": "91a5bcc4-8827-4243-a92d-696f62efb288",
   "metadata": {},
   "outputs": [
    {
     "name": "stdout",
     "output_type": "stream",
     "text": [
      "8.55\n",
      "1.7e+308\n",
      "inf\n"
     ]
    }
   ],
   "source": [
    "# Decimal/Float\n",
    "print(8.55)\n",
    "print(1.7e308)\n",
    "print(1.7e309)"
   ]
  },
  {
   "cell_type": "code",
   "execution_count": 16,
   "id": "f65e8bd9-635a-4129-b0e5-d821410b1927",
   "metadata": {},
   "outputs": [
    {
     "name": "stdout",
     "output_type": "stream",
     "text": [
      "True\n",
      "False\n"
     ]
    }
   ],
   "source": [
    "# Boolean\n",
    "print(True)\n",
    "print(False)"
   ]
  },
  {
   "cell_type": "code",
   "execution_count": 17,
   "id": "a51c395b-3b9f-40e9-a823-bd380cf584eb",
   "metadata": {},
   "outputs": [
    {
     "name": "stdout",
     "output_type": "stream",
     "text": [
      "Hello World\n"
     ]
    }
   ],
   "source": [
    "# Text/String\n",
    "print('Hello World')"
   ]
  },
  {
   "cell_type": "code",
   "execution_count": 18,
   "id": "6eadeee8-1bd5-422a-b4ff-c1c592b30a94",
   "metadata": {},
   "outputs": [
    {
     "name": "stdout",
     "output_type": "stream",
     "text": [
      "(5+6j)\n"
     ]
    }
   ],
   "source": [
    "# complex\n",
    "print(5+6j)"
   ]
  },
  {
   "cell_type": "code",
   "execution_count": 19,
   "id": "798cf758-4a81-45a5-997f-7393aaef8af5",
   "metadata": {},
   "outputs": [
    {
     "name": "stdout",
     "output_type": "stream",
     "text": [
      "[1, 2, 3, 4, 5]\n"
     ]
    }
   ],
   "source": [
    "# List-> C-> Array\n",
    "print([1,2,3,4,5])"
   ]
  },
  {
   "cell_type": "code",
   "execution_count": 20,
   "id": "7c1ba71b-e1f9-46a4-8e78-0eb42b23e9cd",
   "metadata": {},
   "outputs": [
    {
     "name": "stdout",
     "output_type": "stream",
     "text": [
      "(1, 2, 3, 4, 5)\n"
     ]
    }
   ],
   "source": [
    "# Tuple\n",
    "print((1,2,3,4,5))"
   ]
  },
  {
   "cell_type": "code",
   "execution_count": 21,
   "id": "f6469f42-7a6b-4e89-a5de-10c07e9bc408",
   "metadata": {},
   "outputs": [
    {
     "name": "stdout",
     "output_type": "stream",
     "text": [
      "{1, 2, 3, 4, 5}\n"
     ]
    }
   ],
   "source": [
    "# Sets\n",
    "print({1,2,3,4,5})"
   ]
  },
  {
   "cell_type": "code",
   "execution_count": 22,
   "id": "6adcfc1e-997d-43a1-a03e-6a8e7344a960",
   "metadata": {},
   "outputs": [
    {
     "name": "stdout",
     "output_type": "stream",
     "text": [
      "{'name': 'Nitish', 'gender': 'Male', 'weight': 70}\n"
     ]
    }
   ],
   "source": [
    "# Dictionary\n",
    "print({'name':'Krishi','gender':'Male','weight':65})"
   ]
  },
  {
   "cell_type": "markdown",
   "id": "8c23371e-df30-40d4-a09f-9f9a4d1ec235",
   "metadata": {},
   "source": [
    "<h3>3. Variables</h3>\n",
    "\n",
    "<li>Static Vs Dynamic Typing</li>\n",
    "<li>Static Vs Dynamic Binding</li>\n",
    "<li>stylish declaration techniques</li>"
   ]
  },
  {
   "cell_type": "code",
   "execution_count": 1,
   "id": "782aed29-0463-4b45-a1b6-2b81c94d0fe9",
   "metadata": {},
   "outputs": [
    {
     "name": "stdout",
     "output_type": "stream",
     "text": [
      "Krishi\n",
      "11\n"
     ]
    }
   ],
   "source": [
    "# C/C++\n",
    "name = 'Krishi'\n",
    "print(name)\n",
    "\n",
    "a = 5\n",
    "b = 6\n",
    "\n",
    "print(a + b)"
   ]
  },
  {
   "cell_type": "code",
   "execution_count": 2,
   "id": "17479c08-e7fb-49ae-a981-b5a088b08bdf",
   "metadata": {},
   "outputs": [
    {
     "ename": "SyntaxError",
     "evalue": "invalid syntax (1639363930.py, line 4)",
     "output_type": "error",
     "traceback": [
      "\u001b[1;36m  Cell \u001b[1;32mIn[2], line 4\u001b[1;36m\u001b[0m\n\u001b[1;33m    int a = 5\u001b[0m\n\u001b[1;37m        ^\u001b[0m\n\u001b[1;31mSyntaxError\u001b[0m\u001b[1;31m:\u001b[0m invalid syntax\n"
     ]
    }
   ],
   "source": [
    "# Dynamic Typing\n",
    "a = 5\n",
    "# Static Typing\n",
    "int a = 5"
   ]
  },
  {
   "cell_type": "code",
   "execution_count": null,
   "id": "a4fe05df-ed3a-4c1f-8bd7-a65939665087",
   "metadata": {},
   "outputs": [],
   "source": [
    "# Dynamic Binding\n",
    "a = 5\n",
    "print(a)\n",
    "a = 'nitish'\n",
    "print(a)\n",
    "\n",
    "# Static Binding\n",
    "int a = 5"
   ]
  },
  {
   "cell_type": "code",
   "execution_count": null,
   "id": "dc1d65af-77dc-4417-a864-01ef1ac3f31e",
   "metadata": {},
   "outputs": [],
   "source": [
    "a = 1\n",
    "b = 2\n",
    "c = 3\n",
    "print(a,b,c)"
   ]
  },
  {
   "cell_type": "code",
   "execution_count": null,
   "id": "d634b1f5-bbab-4735-9f62-5cc036c34b3b",
   "metadata": {},
   "outputs": [],
   "source": [
    "a=b=c= 5\n",
    "print(a,b,c)"
   ]
  },
  {
   "cell_type": "markdown",
   "id": "7e5c85df-8b65-4ae7-864c-416a4184a425",
   "metadata": {},
   "source": [
    "<h3>4. Comments</h3>\n"
   ]
  },
  {
   "cell_type": "code",
   "execution_count": null,
   "id": "da32dc33-6a60-4635-b767-2374643d0774",
   "metadata": {},
   "outputs": [],
   "source": [
    "# this is a comment\n",
    "# second line\n",
    "a = 4\n",
    "b = 6 # like this\n",
    "# second comment\n",
    "print(a+b)"
   ]
  }
 ],
 "metadata": {
  "kernelspec": {
   "display_name": "Python 3 (ipykernel)",
   "language": "python",
   "name": "python3"
  },
  "language_info": {
   "codemirror_mode": {
    "name": "ipython",
    "version": 3
   },
   "file_extension": ".py",
   "mimetype": "text/x-python",
   "name": "python",
   "nbconvert_exporter": "python",
   "pygments_lexer": "ipython3",
   "version": "3.11.6"
  }
 },
 "nbformat": 4,
 "nbformat_minor": 5
}
