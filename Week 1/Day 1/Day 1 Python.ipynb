{
 "cells": [
  {
   "cell_type": "markdown",
   "id": "faebfc09-68fa-42f9-8b23-38fb5681ad31",
   "metadata": {},
   "source": [
    "<h1> Week 1 :- Day 1 Basic Python Journey</h1>\n",
    "    <ul>\n",
    "    <li>Python Output</li>\n",
    "    <li>Data Types</li>\n",
    "    <li>Variables</li>\n",
    "    <li>Comments</li>\n",
    "    <li>Keywords & Identifiers</li>\n",
    "    <li>User Input</li>\n",
    "    <li>Type Conversion</li>\n",
    "    <li>Literals</li>\n",
    "</ul>\n"
   ]
  },
  {
   "cell_type": "markdown",
   "id": "f287506a-d5a9-4c84-b406-04bd06e57ae4",
   "metadata": {},
   "source": [
    "<h3>1. Python Output</h3>\n",
    "print(value, .., sep=' ', end='\\n', file=sys.stdout, flush=False)\n",
    "Prints the values to a stream, or to sys.stdout by default.\n",
    "Optional keyword arguments:\n",
    "file: a file-like object (stream); defaults to the current sys.stdout. sep: string inserted between values, default a space. end:\n",
    "string appended after the last value, default a newline.\n",
    "flush: whether to forcibly flush the stream."
   ]
  },
  {
   "cell_type": "code",
   "execution_count": 2,
   "id": "d07c159c-9568-4aee-8646-be87c2271926",
   "metadata": {},
   "outputs": [
    {
     "name": "stdout",
     "output_type": "stream",
     "text": [
      "Hello World!\n",
      "Salman Khan\n",
      "7\n",
      "7.7\n",
      "True\n",
      "Hello 1.4 1 True\n"
     ]
    }
   ],
   "source": [
    "print(\"Hello World!\")\n",
    "print(\"Salman Khan\")\n",
    "print(7)\n",
    "print(7.7)\n",
    "print(True)\n",
    "print(\"Hello\",1.4,1,True)"
   ]
  },
  {
   "cell_type": "code",
   "execution_count": 11,
   "id": "8948035d-e1a9-4528-b88e-d941dec74a54",
   "metadata": {},
   "outputs": [
    {
     "name": "stdout",
     "output_type": "stream",
     "text": [
      "Hello\n",
      "World\n",
      "Hello -1.4 -1 -True\n",
      "Hello/World\n"
     ]
    }
   ],
   "source": [
    "print(\"Hello\")\n",
    "print(\"World\")\n",
    "\n",
    "print(\"Hello\",1.4,1,True,sep = \" -\")\n",
    "\n",
    "print(\"Hello\",end='/')\n",
    "print(\"World\")"
   ]
  },
  {
   "cell_type": "code",
   "execution_count": null,
   "id": "a8a93320-9f1b-4d46-b299-30e122fd2326",
   "metadata": {},
   "outputs": [],
   "source": []
  }
 ],
 "metadata": {
  "kernelspec": {
   "display_name": "Python 3 (ipykernel)",
   "language": "python",
   "name": "python3"
  },
  "language_info": {
   "codemirror_mode": {
    "name": "ipython",
    "version": 3
   },
   "file_extension": ".py",
   "mimetype": "text/x-python",
   "name": "python",
   "nbconvert_exporter": "python",
   "pygments_lexer": "ipython3",
   "version": "3.11.6"
  }
 },
 "nbformat": 4,
 "nbformat_minor": 5
}
